{
 "cells": [
  {
   "cell_type": "code",
   "execution_count": 5,
   "metadata": {
    "collapsed": false
   },
   "outputs": [
    {
     "name": "stdout",
     "output_type": "stream",
     "text": [
      "[(0, 0), (0, 1), (0, 2), (0, 3), (1, 0), (1, 1), (1, 2), (1, 3), (2, 0), (2, 1), (2, 2), (2, 3)]\n",
      "[1, 9, 25, 49, 81]\n"
     ]
    }
   ],
   "source": [
    "ans=[(i,j) for i in range(3) for j in range (4)]\n",
    "print(ans)\n",
    "\n",
    "ans=[x**2 for x in range(10) if(x%2==1)]\n",
    "print(ans)"
   ]
  },
  {
   "cell_type": "code",
   "execution_count": 7,
   "metadata": {
    "collapsed": false
   },
   "outputs": [
    {
     "name": "stdout",
     "output_type": "stream",
     "text": [
      "[[1, 2, 3], 0, 1, 2, 3, 4]\n",
      "[1, 2, 3]\n"
     ]
    }
   ],
   "source": [
    "def f(alist):\n",
    "    x=5\n",
    "    elist=[alist]\n",
    "    for i in range(x):\n",
    "        elist.append(i)\n",
    "    return elist\n",
    "\n",
    "alist = [1,2,3]\n",
    "ans = f(alist)\n",
    "print(ans)\n",
    "print(alist)"
   ]
  },
  {
   "cell_type": "code",
   "execution_count": 14,
   "metadata": {
    "collapsed": false
   },
   "outputs": [
    {
     "name": "stdout",
     "output_type": "stream",
     "text": [
      "Hello!\n",
      "25\n"
     ]
    }
   ],
   "source": [
    "def hello(func):\n",
    "    def wrapper(x):\n",
    "        print(\"Hello!\")\n",
    "        return func(x)\n",
    "    return wrapper\n",
    "\n",
    "@hello\n",
    "def square(x):\n",
    "    return x*x\n",
    "\n",
    "\n",
    "print(square(5))"
   ]
  },
  {
   "cell_type": "code",
   "execution_count": 22,
   "metadata": {
    "collapsed": false
   },
   "outputs": [
    {
     "name": "stdout",
     "output_type": "stream",
     "text": [
      "1\n",
      "1\n"
     ]
    }
   ],
   "source": [
    "def cyclic_factorial(n):\n",
    "    f=1\n",
    "    for i in range(1,n+1):\n",
    "        f=f*i\n",
    "    return f\n",
    "\n",
    "def recursive_factorial(n):\n",
    "    if(n>0):\n",
    "        return n*recursive_factorial(n-1)\n",
    "    else:\n",
    "        return 1\n",
    "\n",
    "print(cyclic_factorial(0))\n",
    "print(recursive_factorial(0))"
   ]
  },
  {
   "cell_type": "code",
   "execution_count": 6,
   "metadata": {
    "collapsed": false
   },
   "outputs": [
    {
     "name": "stdout",
     "output_type": "stream",
     "text": [
      "('Radius: ', 1, ' Element: ', 'Pb')\n",
      "('Density: ', 15, ' Result: ', 94.24777960769379)\n",
      "('Density: ', 20, ' Result: ', 1256.6370614359173)\n",
      "('Density: ', 30, ' Result: ', 113097.33552923254)\n",
      "('Radius: ', 1, ' Element: ', 'Al')\n",
      "('Density: ', 0.5, ' Result: ', 3.141592653589793)\n",
      "('Density: ', 1, ' Result: ', 3.141592653589793)\n",
      "('Density: ', 2, ' Result: ', 33.510321638291124)\n",
      "('Radius: ', 1, ' Element: ', 'Fe')\n",
      "('Density: ', 3, ' Result: ', 18.84955592153876)\n",
      "('Density: ', 4, ' Result: ', 50.26548245743669)\n",
      "('Density: ', 5, ' Result: ', 523.5987755982989)\n",
      "('Radius: ', 2, ' Element: ', 'Pb')\n",
      "('Density: ', 15, ' Result: ', 94.24777960769379)\n",
      "('Density: ', 20, ' Result: ', 1256.6370614359173)\n",
      "('Density: ', 30, ' Result: ', 113097.33552923254)\n",
      "('Radius: ', 2, ' Element: ', 'Al')\n",
      "('Density: ', 0.5, ' Result: ', 3.141592653589793)\n",
      "('Density: ', 1, ' Result: ', 3.141592653589793)\n",
      "('Density: ', 2, ' Result: ', 33.510321638291124)\n",
      "('Radius: ', 2, ' Element: ', 'Fe')\n",
      "('Density: ', 3, ' Result: ', 18.84955592153876)\n",
      "('Density: ', 4, ' Result: ', 50.26548245743669)\n",
      "('Density: ', 5, ' Result: ', 523.5987755982989)\n",
      "('Radius: ', 3, ' Element: ', 'Pb')\n",
      "('Density: ', 15, ' Result: ', 94.24777960769379)\n",
      "('Density: ', 20, ' Result: ', 1256.6370614359173)\n",
      "('Density: ', 30, ' Result: ', 113097.33552923254)\n",
      "('Radius: ', 3, ' Element: ', 'Al')\n",
      "('Density: ', 0.5, ' Result: ', 3.141592653589793)\n",
      "('Density: ', 1, ' Result: ', 3.141592653589793)\n",
      "('Density: ', 2, ' Result: ', 33.510321638291124)\n",
      "('Radius: ', 3, ' Element: ', 'Fe')\n",
      "('Density: ', 3, ' Result: ', 18.84955592153876)\n",
      "('Density: ', 4, ' Result: ', 50.26548245743669)\n",
      "('Density: ', 5, ' Result: ', 523.5987755982989)\n",
      "[(6.283185307179586, 3.141592653589793, 4.1887902047863905), (12.566370614359172, 12.566370614359172, 33.510321638291124), (18.84955592153876, 28.274333882308138, 113.09733552923255)]\n"
     ]
    }
   ],
   "source": [
    "from __future__ import division\n",
    "from math import pi\n",
    "densities = {\"Al\" : [0.5, 1, 2], \"Fe\" : [3, 4, 5], \"Pb\" : [15, 20, 30]}\n",
    "radii = [1, 2, 3]\n",
    "functions = (lambda r: 2*pi*r, lambda r: pi*r*r, lambda r: 4/3*pi*r*r*r)\n",
    "\n",
    "for r in radii:\n",
    "    for e in densities:\n",
    "        print(\"Radius: \",r,\" Element: \",e)\n",
    "        for f,d in zip(functions,densities[e]):\n",
    "            print(\"Density: \",d,\" Result: \",f(d))\n",
    "\n",
    "result=[(functions[0](i),functions[1](i),functions[2](i)) for i in radii]\n",
    "print(result)"
   ]
  },
  {
   "cell_type": "code",
   "execution_count": 13,
   "metadata": {
    "collapsed": false
   },
   "outputs": [
    {
     "name": "stdout",
     "output_type": "stream",
     "text": [
      "I have 3 dogs\n",
      "Tom is 6 years old\n",
      "Fletcher is 7 years old\n",
      "Larry is 9 years old\n",
      "And they're all mammals, of course.\n",
      "My dogs are hungry.\n"
     ]
    }
   ],
   "source": [
    "# Parent class\n",
    "class Dog:\n",
    "\n",
    "    # Class attribute\n",
    "    species = 'mammal'\n",
    "\n",
    "    # Initializer / Instance attributes\n",
    "    def __init__(self, name, age):\n",
    "        self.name = name\n",
    "        self.age = age\n",
    "        self.is_hungry = True\n",
    "\n",
    "    # instance method\n",
    "    def description(self):\n",
    "        return \"{} is {} years old\".format(self.name, self.age)\n",
    "\n",
    "    # instance method\n",
    "    def speak(self, sound):\n",
    "        return \"{} says {}\".format(self.name, sound)\n",
    "    \n",
    "    def eat(self):\n",
    "        is_hungry=False\n",
    "\n",
    "# Child class (inherits from Dog class)\n",
    "class RussellTerrier(Dog):\n",
    "    def run(self, speed):\n",
    "        return \"{} runs {}\".format(self.name, speed)\n",
    "\n",
    "# Child class (inherits from Dog class)\n",
    "class Bulldog(Dog):\n",
    "    def run(self, speed):\n",
    "        return \"{} runs {}\".format(self.name, speed)\n",
    "\n",
    "    \n",
    "dogs=[RussellTerrier(\"Tom\",6),Bulldog(\"Fletcher\",7),Dog(\"Larry\",9)]\n",
    "print(\"I have \"+str(len(dogs))+\" dogs\")\n",
    "for d in dogs:\n",
    "    print(d.description())\n",
    "    d.eat()\n",
    "\n",
    "print(\"And they're all mammals, of course.\")\n",
    "hungries=True\n",
    "not_hungries=True\n",
    "for d in dogs:\n",
    "    print(d.is_hungry\n",
    "    if(d.is_hungry==False):\n",
    "        hungries=False\n",
    "    else:\n",
    "        not_hungries=False\n",
    "\n",
    "if(hungries):\n",
    "    print(\"My dogs are hungry.\")\n",
    "\n",
    "if(not_hungries):\n",
    "    print(\"My dogs are not hungry\")"
   ]
  },
  {
   "cell_type": "code",
   "execution_count": null,
   "metadata": {
    "collapsed": true
   },
   "outputs": [],
   "source": []
  }
 ],
 "metadata": {
  "anaconda-cloud": {},
  "kernelspec": {
   "display_name": "Python [conda root]",
   "language": "python",
   "name": "conda-root-py"
  },
  "language_info": {
   "codemirror_mode": {
    "name": "ipython",
    "version": 2
   },
   "file_extension": ".py",
   "mimetype": "text/x-python",
   "name": "python",
   "nbconvert_exporter": "python",
   "pygments_lexer": "ipython2",
   "version": "2.7.12"
  }
 },
 "nbformat": 4,
 "nbformat_minor": 1
}
