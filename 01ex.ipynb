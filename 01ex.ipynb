{
 "cells": [
  {
   "cell_type": "code",
   "execution_count": 22,
   "metadata": {
    "collapsed": false
   },
   "outputs": [
    {
     "name": "stdout",
     "output_type": "stream",
     "text": [
      "1\n",
      "2\n",
      "Hello\n",
      "4\n",
      "Word\n",
      "Hello\n",
      "7\n",
      "8\n",
      "Hello\n",
      "Word\n",
      "11\n",
      "Hello\n",
      "13\n",
      "14\n",
      "HelloWorld\n",
      "16\n",
      "17\n",
      "Hello\n",
      "19\n",
      "Word\n",
      "Hello\n",
      "22\n",
      "23\n",
      "Hello\n",
      "Word\n",
      "26\n",
      "Hello\n",
      "28\n",
      "29\n",
      "HelloWorld\n",
      "31\n",
      "32\n",
      "Hello\n",
      "34\n",
      "Word\n",
      "Hello\n",
      "37\n",
      "38\n",
      "Hello\n",
      "Word\n",
      "41\n",
      "Hello\n",
      "43\n",
      "44\n",
      "HelloWorld\n",
      "46\n",
      "47\n",
      "Hello\n",
      "49\n",
      "Word\n",
      "Hello\n",
      "52\n",
      "53\n",
      "Hello\n",
      "Word\n",
      "56\n",
      "Hello\n",
      "58\n",
      "59\n",
      "HelloWorld\n",
      "61\n",
      "62\n",
      "Hello\n",
      "64\n",
      "Word\n",
      "Hello\n",
      "67\n",
      "68\n",
      "Hello\n",
      "Word\n",
      "71\n",
      "Hello\n",
      "73\n",
      "74\n",
      "HelloWorld\n",
      "76\n",
      "77\n",
      "Hello\n",
      "79\n",
      "Word\n",
      "Hello\n",
      "82\n",
      "83\n",
      "Hello\n",
      "Word\n",
      "86\n",
      "Hello\n",
      "88\n",
      "89\n",
      "HelloWorld\n",
      "91\n",
      "92\n",
      "Hello\n",
      "94\n",
      "Word\n",
      "Hello\n",
      "97\n",
      "98\n",
      "Hello\n",
      "Word\n",
      "(1, 2, 'Python', 4, 'Works', 'Python', 7, 8, 'Python', 'Works', 11, 'Python', 13, 14, 'PythonWorks', 16, 17, 'Python', 19, 'Works', 'Python', 22, 23, 'Python', 'Works', 26, 'Python', 28, 29, 'PythonWorks', 31, 32, 'Python', 34, 'Works', 'Python', 37, 38, 'Python', 'Works', 41, 'Python', 43, 44, 'PythonWorks', 46, 47, 'Python', 49, 'Works', 'Python', 52, 53, 'Python', 'Works', 56, 'Python', 58, 59, 'PythonWorks', 61, 62, 'Python', 64, 'Works', 'Python', 67, 68, 'Python', 'Works', 71, 'Python', 73, 74, 'PythonWorks', 76, 77, 'Python', 79, 'Works', 'Python', 82, 83, 'Python', 'Works', 86, 'Python', 88, 89, 'PythonWorks', 91, 92, 'Python', 94, 'Works', 'Python', 97, 98, 'Python', 'Works')\n"
     ]
    }
   ],
   "source": [
    "lista=[]\n",
    "for i in range (1,101):\n",
    "    if i%3==0 and i%5==0:\n",
    "        print(\"HelloWorld\")\n",
    "        lista.append(\"PythonWorks\")\n",
    "    elif i%3==0:\n",
    "        print(\"Hello\")\n",
    "        lista.append(\"Python\")\n",
    "    elif i%5==0:\n",
    "        print(\"Word\")\n",
    "        lista.append(\"Works\")\n",
    "    else:\n",
    "        print(i)\n",
    "        lista.append(i)\n",
    "tupla=tuple(lista)\n",
    "print(tupla)"
   ]
  },
  {
   "cell_type": "code",
   "execution_count": 12,
   "metadata": {
    "collapsed": false
   },
   "outputs": [
    {
     "name": "stdout",
     "output_type": "stream",
     "text": [
      "(2, 1)\n"
     ]
    }
   ],
   "source": [
    "def swap (a,b):\n",
    "    x=a\n",
    "    a=b\n",
    "    b=x\n",
    "    print(a,b)\n",
    "\n",
    "swap(1,2)"
   ]
  },
  {
   "cell_type": "code",
   "execution_count": 33,
   "metadata": {
    "collapsed": false,
    "scrolled": true
   },
   "outputs": [
    {
     "name": "stdout",
     "output_type": "stream",
     "text": [
      "25\n",
      "5.0\n"
     ]
    }
   ],
   "source": [
    "import math\n",
    "def distance(x1,x2):\n",
    "    somma=0\n",
    "    for i in range(0,len(x1)):\n",
    "        somma=somma+(x1[i]-x2[i])**2\n",
    "    return math.sqrt(somma)\n",
    "\n",
    "distance((3,0),(0,4))"
   ]
  },
  {
   "cell_type": "code",
   "execution_count": 40,
   "metadata": {
    "collapsed": false
   },
   "outputs": [
    {
     "name": "stdout",
     "output_type": "stream",
     "text": [
      "{' ': 41, '.': 3, '1': 2, '0': 2, 'a': 7, 'c': 1, 'b': 5, 'e': 20, 'd': 5, 'g': 1, 'f': 10, 'i': 12, 'h': 11, 'm': 8, 'l': 12, 'o': 15, 'n': 10, 'p': 8, 's': 7, 'r': 19, 'u': 7, 't': 19, 'w': 4, 'v': 2}\n"
     ]
    }
   ],
   "source": [
    "s = \"Write a program that prints the numbers from 1 to 100. \\\n",
    "But for multiples of three print Hello instead of the number and for the multiples of five print World. \\\n",
    "For numbers which are multiples of both three and five print HelloWorld.\"\n",
    "s = s.lower()\n",
    "dictio={}\n",
    "for i in s:\n",
    "    if i in dictio:\n",
    "        num=dictio[i]\n",
    "        dictio[i]=num+1\n",
    "    else:\n",
    "        dictio[i]=1\n",
    "    \n",
    "print(dictio)\n"
   ]
  },
  {
   "cell_type": "code",
   "execution_count": 29,
   "metadata": {
    "collapsed": false
   },
   "outputs": [
    {
     "name": "stdout",
     "output_type": "stream",
     "text": [
      "54\n",
      "54\n"
     ]
    }
   ],
   "source": [
    "def count(l):\n",
    "    unique=[]\n",
    "    for i in l:\n",
    "        if i not in unique:\n",
    "            unique.append(i)\n",
    "    return len(unique)\n",
    "    \n",
    "l = [36, 45, 58, 3, 74, 96, 64, 45, 31, 10, 24, 19, 33, 86, 99, 18, 63, 70, 85,\n",
    " 85, 63, 47, 56, 42, 70, 84, 88, 55, 20, 54, 8, 56, 51, 79, 81, 57, 37, 91,\n",
    " 1, 84, 84, 36, 66, 9, 89, 50, 42, 91, 50, 95, 90, 98, 39, 16, 82, 31, 92, 41,\n",
    " 45, 30, 66, 70, 34, 85, 94, 5, 3, 36, 72, 91, 84, 34, 87, 75, 53, 51, 20, 89, 51, 20]\n",
    "print(count(l))\n",
    "\n",
    "s=set(l)\n",
    "print(len(s))"
   ]
  },
  {
   "cell_type": "code",
   "execution_count": 5,
   "metadata": {
    "collapsed": false
   },
   "outputs": [
    {
     "data": {
      "text/plain": [
       "729"
      ]
     },
     "execution_count": 5,
     "metadata": {},
     "output_type": "execute_result"
    }
   ],
   "source": [
    "def square(n):\n",
    "    return n**2\n",
    "\n",
    "def cube(n):\n",
    "    return n**3\n",
    "\n",
    "def sixPower(n):\n",
    "    return n*square(n)*cube(n)\n",
    "\n",
    "sixPower(3)"
   ]
  },
  {
   "cell_type": "code",
   "execution_count": 14,
   "metadata": {
    "collapsed": false
   },
   "outputs": [
    {
     "name": "stdout",
     "output_type": "stream",
     "text": [
      "[1, 8, 27, 64, 125, 216, 343, 512, 729, 1000]\n",
      "[1, 8, 27, 64, 125, 216, 343, 512, 729, 1000]\n"
     ]
    }
   ],
   "source": [
    "x=list(range(1,11))\n",
    "y1=[]\n",
    "\n",
    "for i in x:\n",
    "    y1.append(i**3)\n",
    "\n",
    "print(y1)\n",
    "\n",
    "y2=[i**3 for i in x]\n",
    "print(y2)\n"
   ]
  },
  {
   "cell_type": "code",
   "execution_count": 20,
   "metadata": {
    "collapsed": false
   },
   "outputs": [
    {
     "name": "stdout",
     "output_type": "stream",
     "text": [
      "[(3, 4, 5), (5, 12, 13), (6, 8, 10), (7, 24, 25), (8, 15, 17), (9, 12, 15), (9, 40, 41), (10, 24, 26), (11, 60, 61), (12, 16, 20), (12, 35, 37), (13, 84, 85), (14, 48, 50), (15, 20, 25), (15, 36, 39), (16, 30, 34), (16, 63, 65), (18, 24, 30), (18, 80, 82), (20, 21, 29), (20, 48, 52), (21, 28, 35), (21, 72, 75), (24, 32, 40), (24, 45, 51), (24, 70, 74), (25, 60, 65), (27, 36, 45), (28, 45, 53), (28, 96, 100), (30, 40, 50), (30, 72, 78), (32, 60, 68), (33, 44, 55), (33, 56, 65), (35, 84, 91), (36, 48, 60), (36, 77, 85), (39, 52, 65), (39, 80, 89), (40, 42, 58), (40, 75, 85), (42, 56, 70), (45, 60, 75), (48, 55, 73), (48, 64, 80), (51, 68, 85), (54, 72, 90), (57, 76, 95), (60, 63, 87), (60, 80, 100), (65, 72, 97)]\n"
     ]
    }
   ],
   "source": [
    "triple=[(a,b,c) for a in range(1,101) for b in range(a+1,101) for c in range(b+1,101) if(a**2+b**2==c**2)]\n",
    "print(triple)"
   ]
  },
  {
   "cell_type": "code",
   "execution_count": 13,
   "metadata": {
    "collapsed": false
   },
   "outputs": [
    {
     "data": {
      "text/plain": [
       "(0.0, 0.25, 0.5, 0.75, 1.0)"
      ]
     },
     "execution_count": 13,
     "metadata": {},
     "output_type": "execute_result"
    }
   ],
   "source": [
    "from __future__ import division\n",
    "def normalization(t):\n",
    "    min=t[0]\n",
    "    max=t[0]\n",
    "    for i in range(1,len(t)):\n",
    "        if(t[i]>max):\n",
    "            max=t[i]\n",
    "        if(t[i]<min):\n",
    "            min=t[i]\n",
    "    l=[]\n",
    "    for i in t:\n",
    "        l.append((i-min)/(max-min))\n",
    "    \n",
    "    return tuple(l)\n",
    "\n",
    "test=(1,2,3,4,5)\n",
    "normalization(test)"
   ]
  },
  {
   "cell_type": "code",
   "execution_count": null,
   "metadata": {
    "collapsed": true
   },
   "outputs": [],
   "source": []
  }
 ],
 "metadata": {
  "anaconda-cloud": {},
  "kernelspec": {
   "display_name": "Python [conda root]",
   "language": "python",
   "name": "conda-root-py"
  },
  "language_info": {
   "codemirror_mode": {
    "name": "ipython",
    "version": 2
   },
   "file_extension": ".py",
   "mimetype": "text/x-python",
   "name": "python",
   "nbconvert_exporter": "python",
   "pygments_lexer": "ipython2",
   "version": "2.7.12"
  }
 },
 "nbformat": 4,
 "nbformat_minor": 1
}
