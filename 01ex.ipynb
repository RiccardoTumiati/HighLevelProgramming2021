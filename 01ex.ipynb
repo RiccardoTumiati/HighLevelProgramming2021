{
 "cells": [
  {
   "cell_type": "code",
   "execution_count": 10,
   "metadata": {
    "collapsed": false
   },
   "outputs": [
    {
     "name": "stdout",
     "output_type": "stream",
     "text": [
      "1\n",
      "2\n",
      "Hello\n",
      "4\n",
      "Word\n",
      "Hello\n",
      "7\n",
      "8\n",
      "Hello\n",
      "Word\n",
      "11\n",
      "Hello\n",
      "13\n",
      "14\n",
      "HelloWorld\n",
      "16\n",
      "17\n",
      "Hello\n",
      "19\n",
      "Word\n",
      "Hello\n",
      "22\n",
      "23\n",
      "Hello\n",
      "Word\n",
      "26\n",
      "Hello\n",
      "28\n",
      "29\n",
      "HelloWorld\n",
      "31\n",
      "32\n",
      "Hello\n",
      "34\n",
      "Word\n",
      "Hello\n",
      "37\n",
      "38\n",
      "Hello\n",
      "Word\n",
      "41\n",
      "Hello\n",
      "43\n",
      "44\n",
      "HelloWorld\n",
      "46\n",
      "47\n",
      "Hello\n",
      "49\n",
      "Word\n",
      "Hello\n",
      "52\n",
      "53\n",
      "Hello\n",
      "Word\n",
      "56\n",
      "Hello\n",
      "58\n",
      "59\n",
      "HelloWorld\n",
      "61\n",
      "62\n",
      "Hello\n",
      "64\n",
      "Word\n",
      "Hello\n",
      "67\n",
      "68\n",
      "Hello\n",
      "Word\n",
      "71\n",
      "Hello\n",
      "73\n",
      "74\n",
      "HelloWorld\n",
      "76\n",
      "77\n",
      "Hello\n",
      "79\n",
      "Word\n",
      "Hello\n",
      "82\n",
      "83\n",
      "Hello\n",
      "Word\n",
      "86\n",
      "Hello\n",
      "88\n",
      "89\n",
      "HelloWorld\n",
      "91\n",
      "92\n",
      "Hello\n",
      "94\n",
      "Word\n",
      "Hello\n",
      "97\n",
      "98\n",
      "Hello\n",
      "[1, 2, 'Python', 4, 'Works', 'Python', 7, 8, 'Python', 'Works', 11, 'Python', 13, 14, 'PythonWorks', 16, 17, 'Python', 19, 'Works', 'Python', 22, 23, 'Python', 'Works', 26, 'Python', 28, 29, 'PythonWorks', 31, 32, 'Python', 34, 'Works', 'Python', 37, 38, 'Python', 'Works', 41, 'Python', 43, 44, 'PythonWorks', 46, 47, 'Python', 49, 'Works', 'Python', 52, 53, 'Python', 'Works', 56, 'Python', 58, 59, 'PythonWorks', 61, 62, 'Python', 64, 'Works', 'Python', 67, 68, 'Python', 'Works', 71, 'Python', 73, 74, 'PythonWorks', 76, 77, 'Python', 79, 'Works', 'Python', 82, 83, 'Python', 'Works', 86, 'Python', 88, 89, 'PythonWorks', 91, 92, 'Python', 94, 'Works', 'Python', 97, 98, 'Python']\n"
     ]
    }
   ],
   "source": [
    "lista=[]\n",
    "for i in range (1,100):\n",
    "    if i%3==0 and i%5==0:\n",
    "        print(\"HelloWorld\")\n",
    "        lista.append(\"PythonWorks\")\n",
    "    elif i%3==0:\n",
    "        print(\"Hello\")\n",
    "        lista.append(\"Python\")\n",
    "    elif i%5==0:\n",
    "        print(\"Word\")\n",
    "        lista.append(\"Works\")\n",
    "    else:\n",
    "        print(i)\n",
    "        lista.append(i)\n",
    "tupla=(lista)\n",
    "print(tupla)"
   ]
  },
  {
   "cell_type": "code",
   "execution_count": 12,
   "metadata": {
    "collapsed": false
   },
   "outputs": [
    {
     "name": "stdout",
     "output_type": "stream",
     "text": [
      "(2, 1)\n"
     ]
    }
   ],
   "source": [
    "def swap (a,b):\n",
    "    x=a\n",
    "    a=b\n",
    "    b=x\n",
    "    print(a,b)\n",
    "\n",
    "swap(1,2)"
   ]
  },
  {
   "cell_type": "code",
   "execution_count": 33,
   "metadata": {
    "collapsed": false,
    "scrolled": true
   },
   "outputs": [
    {
     "name": "stdout",
     "output_type": "stream",
     "text": [
      "25\n",
      "5.0\n"
     ]
    }
   ],
   "source": [
    "import math\n",
    "def distance(x1,x2):\n",
    "    somma=0\n",
    "    for i in range(0,len(x1)):\n",
    "        somma=somma+(x1[i]-x2[i])**2\n",
    "    return math.sqrt(somma)\n",
    "\n",
    "distance((3,0),(0,4))"
   ]
  },
  {
   "cell_type": "code",
   "execution_count": 40,
   "metadata": {
    "collapsed": false
   },
   "outputs": [
    {
     "name": "stdout",
     "output_type": "stream",
     "text": [
      "{' ': 41, '.': 3, '1': 2, '0': 2, 'a': 7, 'c': 1, 'b': 5, 'e': 20, 'd': 5, 'g': 1, 'f': 10, 'i': 12, 'h': 11, 'm': 8, 'l': 12, 'o': 15, 'n': 10, 'p': 8, 's': 7, 'r': 19, 'u': 7, 't': 19, 'w': 4, 'v': 2}\n"
     ]
    }
   ],
   "source": [
    "s = \"Write a program that prints the numbers from 1 to 100. \\\n",
    "But for multiples of three print Hello instead of the number and for the multiples of five print World. \\\n",
    "For numbers which are multiples of both three and five print HelloWorld.\"\n",
    "s = s.lower()\n",
    "dictio={}\n",
    "for i in s:\n",
    "    if i in dictio:\n",
    "        num=dictio[i]\n",
    "        dictio[i]=num+1\n",
    "    else:\n",
    "        dictio[i]=1\n",
    "    \n",
    "print(dictio)\n"
   ]
  },
  {
   "cell_type": "code",
   "execution_count": 47,
   "metadata": {
    "collapsed": false
   },
   "outputs": [
    {
     "name": "stdout",
     "output_type": "stream",
     "text": [
      "44\n",
      "54\n"
     ]
    }
   ],
   "source": [
    "def count(l):\n",
    "    unique=[]\n",
    "    for i in l:\n",
    "        if i in unique:\n",
    "            unique.remove(i)\n",
    "        else:\n",
    "            unique.append(i)\n",
    "        \n",
    "    return len(unique)\n",
    "    \n",
    "l = [36, 45, 58, 3, 74, 96, 64, 45, 31, 10, 24, 19, 33, 86, 99, 18, 63, 70, 85,\n",
    " 85, 63, 47, 56, 42, 70, 84, 88, 55, 20, 54, 8, 56, 51, 79, 81, 57, 37, 91,\n",
    " 1, 84, 84, 36, 66, 9, 89, 50, 42, 91, 50, 95, 90, 98, 39, 16, 82, 31, 92, 41,\n",
    " 45, 30, 66, 70, 34, 85, 94, 5, 3, 36, 72, 91, 84, 34, 87, 75, 53, 51, 20, 89, 51, 20]\n",
    "print(count(l))\n",
    "\n",
    "s=set(l)\n",
    "print(len(s))"
   ]
  },
  {
   "cell_type": "code",
   "execution_count": null,
   "metadata": {
    "collapsed": true
   },
   "outputs": [],
   "source": []
  }
 ],
 "metadata": {
  "anaconda-cloud": {},
  "kernelspec": {
   "display_name": "Python [conda root]",
   "language": "python",
   "name": "conda-root-py"
  },
  "language_info": {
   "codemirror_mode": {
    "name": "ipython",
    "version": 2
   },
   "file_extension": ".py",
   "mimetype": "text/x-python",
   "name": "python",
   "nbconvert_exporter": "python",
   "pygments_lexer": "ipython2",
   "version": "2.7.12"
  }
 },
 "nbformat": 4,
 "nbformat_minor": 1
}
