{
 "cells": [
  {
   "cell_type": "code",
   "execution_count": 1,
   "metadata": {},
   "outputs": [],
   "source": [
    "import numpy as np"
   ]
  },
  {
   "cell_type": "markdown",
   "metadata": {},
   "source": [
    "1\\. Find the total mean, and the mean for each row and column of the following matrix:\n",
    "\n",
    "```python\n",
    "m = np.arange(12).reshape((3,4))\n",
    "```"
   ]
  },
  {
   "cell_type": "code",
   "execution_count": 2,
   "metadata": {},
   "outputs": [
    {
     "name": "stdout",
     "output_type": "stream",
     "text": [
      "Total mean: 5.5\n",
      "Mean of the row: [1.5 5.5 9.5]\n",
      "Mean of the column: [4. 5. 6. 7.]\n"
     ]
    }
   ],
   "source": [
    "m = np.arange(12).reshape((3,4))\n",
    "print(\"Total mean:\",m.mean())\n",
    "print(\"Mean of the row:\",m.mean(axis=1))\n",
    "print(\"Mean of the column:\",m.mean(axis=0))"
   ]
  },
  {
   "cell_type": "markdown",
   "metadata": {},
   "source": [
    "2\\. Find the outer product of the following vectors:\n",
    "\n",
    "```python\n",
    "u = np.array([1, 3, 5, 7])\n",
    "v = np.array([2, 4, 6, 8])\n",
    "```\n",
    "\n",
    "Use different methods to do this:\n",
    "\n",
    "   1. Using the function `outer` in numpy\n",
    "   2. Using a nested `for` loop or a list comprehension\n",
    "   3. Using numpy broadcasting operations"
   ]
  },
  {
   "cell_type": "code",
   "execution_count": 3,
   "metadata": {},
   "outputs": [
    {
     "name": "stdout",
     "output_type": "stream",
     "text": [
      "Outer product method 1: [[ 2  4  6  8]\n",
      " [ 6 12 18 24]\n",
      " [10 20 30 40]\n",
      " [14 28 42 56]]\n",
      "Outer product method 2: [[ 2.  4.  6.  8.]\n",
      " [ 6. 12. 18. 24.]\n",
      " [10. 20. 30. 40.]\n",
      " [14. 28. 42. 56.]]\n",
      "[[ 2  6 10 14]\n",
      " [ 4 12 20 28]\n",
      " [ 6 18 30 42]\n",
      " [ 8 24 40 56]]\n"
     ]
    }
   ],
   "source": [
    "u = np.array([1, 3, 5, 7])\n",
    "v = np.array([2, 4, 6, 8])\n",
    "print(\"Outer product method 1:\",np.outer(u,v))\n",
    "\n",
    "outer=np.array([[]])\n",
    "for i in u:\n",
    "    row=np.array([[]])\n",
    "    for j in v:\n",
    "        outer=np.append(outer,i*j)\n",
    "outer=outer.reshape((4,4))\n",
    "print(\"Outer product method 2:\",outer)\n",
    "\n",
    "outer=u*v.reshape(len(v),1)\n",
    "print(outer)"
   ]
  },
  {
   "cell_type": "markdown",
   "metadata": {},
   "source": [
    "3\\. Create a 10 by 6 matrix of increasing float numbers, starting from zero and increasing in each step by 0.1, so the output matrix looks like the following:\n",
    "\n",
    "```python\n",
    "m = [[0. 0.1, 0.2 0.3 ... 0.9]\n",
    "     [1.0 1.1 1.2 1.3 ... 1.9]\n",
    "     ...\n",
    "     [5.0 5.1 5.2 5.3 ... 5.9]]\n",
    "```\n",
    "After creating the matrix, set all entries with a decimal part $< 0.4$ to zero."
   ]
  },
  {
   "cell_type": "code",
   "execution_count": 58,
   "metadata": {},
   "outputs": [
    {
     "name": "stdout",
     "output_type": "stream",
     "text": [
      "[[ 0.   0.1  0.2  0.3  0.4  0.5  0.6  0.7  0.8  0.9]\n",
      " [ 1.   1.1  1.2  1.3  1.4  1.5  1.6  1.7  1.8  1.9]\n",
      " [ 2.   2.1  2.2  2.3  2.4  2.5  2.6  2.7  2.8  2.9]\n",
      " [ 3.   3.1  3.2  3.3  3.4  3.5  3.6  3.7  3.8  3.9]\n",
      " [ 4.   4.1  4.2  4.3  4.4  4.5  4.6  4.7  4.8  4.9]\n",
      " [ 5.   5.1  5.2  5.3  5.4  5.5  5.6  5.7  5.8  5.9]]\n",
      "[[ 0.14731193  0.1790386   0.10695843  0.04130144  0.01203746  0.17425031\n",
      "   0.36274579  0.37837359  0.05196682  0.16572685]\n",
      " [ 1.29084718  1.05660321  1.03738438  1.12155679  1.15073864  1.06320352\n",
      "   1.32498252  1.07390682  1.32519478  1.14245747]\n",
      " [ 2.15726351  2.10831706  2.17496966  2.01356538  2.15780227  2.05183682\n",
      "   2.09853908  2.03574274  2.10263437  2.34713994]\n",
      " [ 3.18671233  3.35528944  3.19965629  3.04232157  3.05222128  3.09076349\n",
      "   3.16734213  3.2277595   3.07418289  3.03762277]\n",
      " [ 4.29717406  4.18317751  4.18102276  4.30795425  4.19046756  4.05219515\n",
      "   4.01208247  4.01722495  4.29555388  4.26008672]\n",
      " [ 5.13635248  5.07778637  5.11988601  5.03187178  5.10950773  5.19122375\n",
      "   5.12601618  5.00050956  5.04546978  5.10604656]]\n"
     ]
    }
   ],
   "source": [
    "import numpy.random as npr\n",
    "m=np.arange(0,6,0.1).reshape(6,10)\n",
    "print(m)\n",
    "\n",
    "m=m.astype('uint32')\n",
    "m=m.astype('float64')\n",
    "r=npr.rand(6,10)%0.4\n",
    "output=m+r\n",
    "print(output)"
   ]
  },
  {
   "cell_type": "markdown",
   "metadata": {},
   "source": [
    "4\\. Use `np.linspace` to create an array of 100 numbers between 0 and 2π (inclusive).\n",
    "\n",
    "  * Extract every 10th element using the slice notation\n",
    "  * Reverse the array using the slice notation\n",
    "  * Extract elements where the absolute difference between the sin and cos functions evaluated for that element is $< 0.1$\n",
    "  * **Optional**: make a plot showing the sin and cos functions and indicate where they are close"
   ]
  },
  {
   "cell_type": "code",
   "execution_count": 9,
   "metadata": {},
   "outputs": [
    {
     "name": "stdout",
     "output_type": "stream",
     "text": [
      "[0.         0.63466518 1.26933037 1.90399555 2.53866073 3.17332591\n",
      " 3.8079911  4.44265628 5.07732146 5.71198664]\n",
      "[6.28318531 6.21971879 6.15625227 6.09278575 6.02931923 5.96585272\n",
      " 5.9023862  5.83891968 5.77545316 5.71198664 5.64852012 5.58505361\n",
      " 5.52158709 5.45812057 5.39465405 5.33118753 5.26772102 5.2042545\n",
      " 5.14078798 5.07732146 5.01385494 4.95038842 4.88692191 4.82345539\n",
      " 4.75998887 4.69652235 4.63305583 4.56958931 4.5061228  4.44265628\n",
      " 4.37918976 4.31572324 4.25225672 4.1887902  4.12532369 4.06185717\n",
      " 3.99839065 3.93492413 3.87145761 3.8079911  3.74452458 3.68105806\n",
      " 3.61759154 3.55412502 3.4906585  3.42719199 3.36372547 3.30025895\n",
      " 3.23679243 3.17332591 3.10985939 3.04639288 2.98292636 2.91945984\n",
      " 2.85599332 2.7925268  2.72906028 2.66559377 2.60212725 2.53866073\n",
      " 2.47519421 2.41172769 2.34826118 2.28479466 2.22132814 2.15786162\n",
      " 2.0943951  2.03092858 1.96746207 1.90399555 1.84052903 1.77706251\n",
      " 1.71359599 1.65012947 1.58666296 1.52319644 1.45972992 1.3962634\n",
      " 1.33279688 1.26933037 1.20586385 1.14239733 1.07893081 1.01546429\n",
      " 0.95199777 0.88853126 0.82506474 0.76159822 0.6981317  0.63466518\n",
      " 0.57119866 0.50773215 0.44426563 0.38079911 0.31733259 0.25386607\n",
      " 0.19039955 0.12693304 0.06346652 0.        ]\n",
      "[0.76159822 0.82506474 3.87145761 3.93492413]\n"
     ]
    }
   ],
   "source": [
    "from math import pi\n",
    "a=np.linspace(0,2*pi,100)\n",
    "\n",
    "print(a[0:100:10])\n",
    "print(a[::-1])\n",
    "\n",
    "mask=(np.absolute((np.sin(a)-np.cos(a)))<0.1)\n",
    "print(a[mask])"
   ]
  },
  {
   "cell_type": "markdown",
   "metadata": {},
   "source": [
    "5\\. Create a matrix that shows the 10 by 10 multiplication table.\n",
    "\n",
    " * Find the trace of the matrix\n",
    " * Extract the anti-diagonal matrix (this should be ```array([10, 18, 24, 28, 30, 30, 28, 24, 18, 10])```)\n",
    " * Extract the diagonal offset by 1 upwards (this should be ```array([ 2,  6, 12, 20, 30, 42, 56, 72, 90])```)"
   ]
  },
  {
   "cell_type": "code",
   "execution_count": 43,
   "metadata": {},
   "outputs": [
    {
     "name": "stdout",
     "output_type": "stream",
     "text": [
      "[[  1   2   3   4   5   6   7   8   9  10]\n",
      " [  2   4   6   8  10  12  14  16  18  20]\n",
      " [  3   6   9  12  15  18  21  24  27  30]\n",
      " [  4   8  12  16  20  24  28  32  36  40]\n",
      " [  5  10  15  20  25  30  35  40  45  50]\n",
      " [  6  12  18  24  30  36  42  48  54  60]\n",
      " [  7  14  21  28  35  42  49  56  63  70]\n",
      " [  8  16  24  32  40  48  56  64  72  80]\n",
      " [  9  18  27  36  45  54  63  72  81  90]\n",
      " [ 10  20  30  40  50  60  70  80  90 100]]\n",
      "385\n",
      "[10 18 24 28 30 30 28 24 18 10]\n",
      "[ 2  6 12 20 30 42 56 72 90]\n"
     ]
    }
   ],
   "source": [
    "a=np.arange(1,11)\n",
    "mat=a*a.reshape(len(a),1)\n",
    "print(mat)\n",
    "\n",
    "i=np.arange(0,10)\n",
    "print(np.sum(mat[i,i]))\n",
    "print(mat[i[::-1],i])\n",
    "\n",
    "j=np.arange(1,10)\n",
    "print(mat[j-1,j])"
   ]
  },
  {
   "cell_type": "markdown",
   "metadata": {},
   "source": [
    "6\\. Use broadcasting to create a grid of distances.\n",
    "\n",
    "Route 66 crosses the following cities in the US: Chicago, Springfield, Saint-Louis, Tulsa, Oklahoma City, Amarillo, Santa Fe, Albuquerque, Flagstaff, Los Angeles\n",
    "The corresponding positions in miles are: 0, 198, 303, 736, 871, 1175, 1475, 1544, 1913, 2448\n",
    "\n",
    "  * Build a 2D grid of distances among each city along Route 66\n",
    "  * Convert the distances in km"
   ]
  },
  {
   "cell_type": "code",
   "execution_count": 47,
   "metadata": {},
   "outputs": [
    {
     "name": "stdout",
     "output_type": "stream",
     "text": [
      "[[   0  198  303  736  871 1175 1475 1544 1913 2448]\n",
      " [ 198    0  105  538  673  977 1277 1346 1715 2250]\n",
      " [ 303  105    0  433  568  872 1172 1241 1610 2145]\n",
      " [ 736  538  433    0  135  439  739  808 1177 1712]\n",
      " [ 871  673  568  135    0  304  604  673 1042 1577]\n",
      " [1175  977  872  439  304    0  300  369  738 1273]\n",
      " [1475 1277 1172  739  604  300    0   69  438  973]\n",
      " [1544 1346 1241  808  673  369   69    0  369  904]\n",
      " [1913 1715 1610 1177 1042  738  438  369    0  535]\n",
      " [2448 2250 2145 1712 1577 1273  973  904  535    0]]\n",
      "[[   0.      318.6414  487.6179 1184.4448 1401.7003 1890.9275 2373.7175\n",
      "  2484.7592 3078.5909 3939.5664]\n",
      " [ 318.6414    0.      168.9765  865.8034 1083.0589 1572.2861 2055.0761\n",
      "  2166.1178 2759.9495 3620.925 ]\n",
      " [ 487.6179  168.9765    0.      696.8269  914.0824 1403.3096 1886.0996\n",
      "  1997.1413 2590.973  3451.9485]\n",
      " [1184.4448  865.8034  696.8269    0.      217.2555  706.4827 1189.2727\n",
      "  1300.3144 1894.1461 2755.1216]\n",
      " [1401.7003 1083.0589  914.0824  217.2555    0.      489.2272  972.0172\n",
      "  1083.0589 1676.8906 2537.8661]\n",
      " [1890.9275 1572.2861 1403.3096  706.4827  489.2272    0.      482.79\n",
      "   593.8317 1187.6634 2048.6389]\n",
      " [2373.7175 2055.0761 1886.0996 1189.2727  972.0172  482.79      0.\n",
      "   111.0417  704.8734 1565.8489]\n",
      " [2484.7592 2166.1178 1997.1413 1300.3144 1083.0589  593.8317  111.0417\n",
      "     0.      593.8317 1454.8072]\n",
      " [3078.5909 2759.9495 2590.973  1894.1461 1676.8906 1187.6634  704.8734\n",
      "   593.8317    0.      860.9755]\n",
      " [3939.5664 3620.925  3451.9485 2755.1216 2537.8661 2048.6389 1565.8489\n",
      "  1454.8072  860.9755    0.    ]]\n"
     ]
    }
   ],
   "source": [
    "p=np.array([0,198,303,736,871,1175,1475,1544,1913,2448])\n",
    "d=p.reshape(len(p),1) \n",
    "\n",
    "distances=np.absolute(d-p)\n",
    "print(distances)\n",
    "\n",
    "km=distances*1.6093\n",
    "print(km)"
   ]
  },
  {
   "cell_type": "markdown",
   "metadata": {},
   "source": [
    "7\\. Prime numbers sieve: compute the prime numbers in the 0-N (start with N=99) range with a sieve (mask).\n",
    "  * Check the performances (timeit); how does it scale with N?\n",
    "  * Implement the optimization suggested in the [sieve of Eratosthenes](https://en.wikipedia.org/wiki/Sieve_of_Eratosthenes)"
   ]
  },
  {
   "cell_type": "code",
   "execution_count": 52,
   "metadata": {},
   "outputs": [
    {
     "name": "stdout",
     "output_type": "stream",
     "text": [
      "[ 0  1  2  3  5  7 11 13 17 19 23 29 31 37 41 43 47 53 59 61 67 71 73 79\n",
      " 83 89 97]\n"
     ]
    }
   ],
   "source": [
    "def prime(N):\n",
    "    r=np.arange(0,N+1)\n",
    "    mask=[]\n",
    "    for i in r:\n",
    "        if(i==0 or i==1 or i==2):\n",
    "            mask.append(True)\n",
    "        else:\n",
    "            subset=np.arange(2,i)\n",
    "            prime=True\n",
    "            for j in subset:\n",
    "                if(i%j==0):\n",
    "                    prime=False\n",
    "                    break\n",
    "            mask.append(prime)\n",
    "    return mask\n",
    "\n",
    "def eratosthenes(N):\n",
    "    \n",
    "\n",
    "print(r[prime(99)])"
   ]
  },
  {
   "cell_type": "code",
   "execution_count": null,
   "metadata": {},
   "outputs": [],
   "source": []
  }
 ],
 "metadata": {
  "kernelspec": {
   "display_name": "Python 3 (ipykernel)",
   "language": "python",
   "name": "python3"
  },
  "language_info": {
   "codemirror_mode": {
    "name": "ipython",
    "version": 3
   },
   "file_extension": ".py",
   "mimetype": "text/x-python",
   "name": "python",
   "nbconvert_exporter": "python",
   "pygments_lexer": "ipython3",
   "version": "3.8.8"
  }
 },
 "nbformat": 4,
 "nbformat_minor": 2
}
